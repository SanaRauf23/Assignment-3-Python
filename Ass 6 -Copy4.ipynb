{
 "cells": [
  {
   "cell_type": "markdown",
   "metadata": {},
   "source": [
    "# Assignment # 6\n"
   ]
  },
  {
   "cell_type": "markdown",
   "metadata": {},
   "source": [
    "# Question # 1"
   ]
  },
  {
   "cell_type": "raw",
   "metadata": {},
   "source": [
    "Object-oriented programming (OOP) refers to a type of computer programming (software design) in which programmers define the data type of a data structure, and also the types of operations (functions) that can be applied to the data structure.\n",
    "\n",
    "In this way, the data structure becomes an object that includes both data and functions. In addition, programmers can create relationships between one object and another. For example, objects can inherit characteristics from other objects."
   ]
  },
  {
   "cell_type": "markdown",
   "metadata": {},
   "source": [
    "# Question # 2"
   ]
  },
  {
   "cell_type": "raw",
   "metadata": {},
   "source": [
    "Advantages of OOP:\n",
    "    1. Reusability \n",
    "    2. Data redundancy \n",
    "    3. Code maintainance \n",
    "    4. Security\n",
    "    5. Design benefits\n",
    "    6. Better productivity\n",
    "    7. Easy troubleshooting\n",
    "    8. Polymorphism flexibility \n",
    "    9. Problems solving "
   ]
  },
  {
   "cell_type": "markdown",
   "metadata": {},
   "source": [
    "# Question # 3 "
   ]
  },
  {
   "cell_type": "raw",
   "metadata": {},
   "source": [
    "Function: \n",
    "A function is a piece of code that is called by name. It can be passed data to operate on (i.e. the parameters) and can optionally return data (the return value). All data that is passed to a function is explicitly passed.\n",
    "Method: \n",
    "A method is a piece of code that is called by a name that is associated with an object. In most respects it is identical to a function except for two key differences:\n",
    "\n",
    "A method is implicitly passed the object on which it was called.\n",
    "A method is able to operate on data that is contained within the class (remembering that an object is an instance of a class - the class is the definition, the object is an instance of that data)."
   ]
  },
  {
   "cell_type": "markdown",
   "metadata": {},
   "source": [
    "# Question # 4 "
   ]
  },
  {
   "cell_type": "raw",
   "metadata": {},
   "source": [
    "\n",
    "1. CLASS: \n",
    "    A Class is a description of a group of objects with common properties (attributes), behavior (operations), relationships, and semantics\n",
    "A class is an abstraction. An object is an instance of a class.\n",
    "\n",
    "Example of a Class\n",
    "Class: Course\n",
    "Properties: Name, Location, Days Offered, Credit Hours, Professor\n",
    "Behavior: Add Student, Delete Student, Get Course Roster, Determine If Full\n",
    "    \n",
    "2. OBJECT: \n",
    "    An Object represents an entity either physical (box), conceptual (chemical process), or software (list).\n",
    "An Object is a concept, an abstraction, a thing with sharp boundaries and meaning for an application. It has\n",
    "\n",
    "Identity - a name\n",
    "State - determined by the values of its attributes\n",
    "Behavior - determined by how the object acts or reacts to requests (messages) from other objects\n",
    "An Object is represented as a rectangle with a underlined name in UML.\n",
    "\n",
    "3. ATTRIBUTE: \n",
    "    An Attribute is a named property of a class. It has a type. It describes the range of values that that property may hold.\n",
    "    \n",
    "4. BEHAVIOR: \n",
    "    a behavior is how a feature operates within a well-defined scenario of inputs, actions, and outcomes. Products can exhibit countless behaviors, such as:\n",
    "Submitting forms on a website\n",
    "Searching for desired results\n",
    "Saving a document\n",
    "Making REST API calls\n",
    "Running command-line interface commands"
   ]
  },
  {
   "cell_type": "markdown",
   "metadata": {},
   "source": [
    "# Question # 5"
   ]
  },
  {
   "cell_type": "code",
   "execution_count": 1,
   "metadata": {},
   "outputs": [
    {
     "name": "stdout",
     "output_type": "stream",
     "text": [
      "7\n",
      "red\n",
      "12\n",
      "black\n",
      "14\n",
      "6\n",
      "8\n"
     ]
    }
   ],
   "source": [
    "class Car(object):\n",
    "    def __init__(self, model, passengers, color, speed):\n",
    "        self.model = model\n",
    "        self.passengers = passengers\n",
    "        self.color = color\n",
    "        self.speed = speed\n",
    "\n",
    "    def accelerate(self):\n",
    "        self.speed = self.speed + 2\n",
    "        print (self.speed)\n",
    "\n",
    "bmw = Car(\"BMW\", 4, \"red\", 5)\n",
    "ferrari = Car(\"Ferrari\", 2, \"black\", 10)\n",
    "ford = Car(\"Ford\", 6, \"blue\", 6)\n",
    "\n",
    "bmw.accelerate()\n",
    "print (bmw.color)\n",
    "\n",
    "ferrari.accelerate()\n",
    "print (ferrari.color)\n",
    "ferrari.accelerate() #note that the speed has been updated from the previous accelerate call\n",
    "\n",
    "print (ford.passengers)\n",
    "ford.accelerate()"
   ]
  }
 ],
 "metadata": {
  "kernelspec": {
   "display_name": "Python 3",
   "language": "python",
   "name": "python3"
  },
  "language_info": {
   "codemirror_mode": {
    "name": "ipython",
    "version": 3
   },
   "file_extension": ".py",
   "mimetype": "text/x-python",
   "name": "python",
   "nbconvert_exporter": "python",
   "pygments_lexer": "ipython3",
   "version": "3.7.4"
  }
 },
 "nbformat": 4,
 "nbformat_minor": 2
}
