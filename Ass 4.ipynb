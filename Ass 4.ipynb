{
 "cells": [
  {
   "cell_type": "markdown",
   "metadata": {},
   "source": [
    "# Question # 1"
   ]
  },
  {
   "cell_type": "code",
   "execution_count": 2,
   "metadata": {},
   "outputs": [
    {
     "name": "stdout",
     "output_type": "stream",
     "text": [
      "sana\n",
      "rauf\n",
      "16\n",
      "gujranwala\n"
     ]
    }
   ],
   "source": [
    "person = {\n",
    "    'first_name': 'sana',\n",
    "    'last_name': 'rauf',\n",
    "    'age': 16,\n",
    "    'city': 'gujranwala',\n",
    "    }\n",
    "\n",
    "print(person['first_name'])\n",
    "print(person['last_name'])\n",
    "print(person['age'])\n",
    "print(person['city'])"
   ]
  },
  {
   "cell_type": "markdown",
   "metadata": {},
   "source": [
    "# Question # 2"
   ]
  },
  {
   "cell_type": "code",
   "execution_count": 2,
   "metadata": {},
   "outputs": [
    {
     "name": "stdout",
     "output_type": "stream",
     "text": [
      "population of Karachi is 10000000. It is the city of Pakistan. it is city of lights.\n",
      "population of Islamabad is  100000. It is the city of Pakistan. it is capital city of pakistan.\n",
      "population of lahore is  100000. It is the city of Pakistan. it is called ciy of college and universities.\n"
     ]
    }
   ],
   "source": [
    "favorite_Cities = {\n",
    "    'city': 'Karachi',\n",
    "    'City': 'Islamabad',\n",
    "    'City': 'Lahore',\n",
    "    }\n",
    "\n",
    "City= ['Karachi'],\n",
    "\n",
    "Country= 'It is the city of Pakistan.'\n",
    "Fact= 'it is city of lights.' \n",
    "print(\"population of Karachi is \" +   \"10000000\" +\".\" + \" \" + Country + \" \" + Fact)\n",
    "\n",
    "City= ['Islamabad'],\n",
    "Country= 'It is the city of Pakistan.'\n",
    "Fact= 'it is capital city of pakistan.'\n",
    "print(\"population of Islamabad is  \" + \"100000\" +\".\" + \" \" + Country + \" \" +  Fact)\n",
    "\n",
    "City = ['Lahore'],\n",
    "Country= 'It is the city of Pakistan.'\n",
    "Fact= 'it is called ciy of college and universities.'\n",
    "print(\"population of lahore is  \" +  \"100000\" +\".\" + \" \" +  Country + \" \" + Fact )"
   ]
  },
  {
   "cell_type": "markdown",
   "metadata": {},
   "source": [
    "# Question # 3"
   ]
  },
  {
   "cell_type": "code",
   "execution_count": null,
   "metadata": {},
   "outputs": [
    {
     "name": "stdout",
     "output_type": "stream",
     "text": [
      "\n",
      "Enter 'quit' when you are finished.\n",
      "Please enter your age: 15\n",
      "Your ticket is $15\n"
     ]
    }
   ],
   "source": [
    "prompt = \"\\nEnter 'quit' when you are finished.\"\n",
    "prompt += \"\\nPlease enter your age: \"\n",
    "\n",
    "\n",
    "while True:\n",
    "    age = input(prompt)\n",
    "    age = int(age)\n",
    "\n",
    "\n",
    "    if age == 'quit':\n",
    "        break\n",
    "    elif age <= 3:\n",
    "        print(\"Your ticket is free\")\n",
    "    elif age <= 10:\n",
    "        print(\"Your ticket is $10\")\n",
    "    else:\n",
    "        print(\"Your ticket is $15\")"
   ]
  },
  {
   "cell_type": "markdown",
   "metadata": {},
   "source": [
    "# Question # 4\n"
   ]
  },
  {
   "cell_type": "code",
   "execution_count": 1,
   "metadata": {},
   "outputs": [
    {
     "name": "stdout",
     "output_type": "stream",
     "text": [
      "One of my favorite books is Alice in Wonderland.\n"
     ]
    }
   ],
   "source": [
    "def favorite_book(title):\n",
    "    print(\"One of my favorite books is \" + title + \".\")\n",
    "\n",
    "\n",
    "favorite_book('Alice in Wonderland')"
   ]
  },
  {
   "cell_type": "markdown",
   "metadata": {},
   "source": [
    "# Question # 5"
   ]
  },
  {
   "cell_type": "code",
   "execution_count": 5,
   "metadata": {},
   "outputs": [
    {
     "name": "stdout",
     "output_type": "stream",
     "text": [
      "Guess a number between 1 and 30\n",
      "68\n",
      "Try Lower\n",
      "Guess a number between 1 and 30\n",
      "27\n",
      "Try Lower\n",
      "Guess a number between 1 and 30\n",
      "23\n",
      "Try Lower\n",
      "Guess a number between 1 and 30\n",
      "22\n",
      "Try Lower\n",
      "Guess a number between 1 and 30\n",
      "18\n",
      "You won!!!\n",
      "if you gussed less than 6 times you won\n"
     ]
    }
   ],
   "source": [
    "import random\n",
    "num = random.randint(1, 30)\n",
    "while True:\n",
    "    print('Guess a number between 1 and 30')\n",
    "    guess = input()\n",
    "    i = int(guess)\n",
    "    if i == num:\n",
    "        print('You won!!!')\n",
    "        break\n",
    "    elif i < num:\n",
    "               print('Try Higher')\n",
    "    elif i > num:\n",
    "               print('Try Lower')\n",
    "#any recommendations for the game end\n",
    "print('if you gussed less than 6 times you won')"
   ]
  }
 ],
 "metadata": {
  "kernelspec": {
   "display_name": "Python 3",
   "language": "python",
   "name": "python3"
  },
  "language_info": {
   "codemirror_mode": {
    "name": "ipython",
    "version": 3
   },
   "file_extension": ".py",
   "mimetype": "text/x-python",
   "name": "python",
   "nbconvert_exporter": "python",
   "pygments_lexer": "ipython3",
   "version": "3.7.4"
  }
 },
 "nbformat": 4,
 "nbformat_minor": 2
}
